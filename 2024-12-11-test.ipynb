{
  "cells": [
    {
      "cell_type": "markdown",
      "id": "3f826b5b-1cf7-45b2-9622-89c10dbf1eb2",
      "metadata": {
        "id": "3f826b5b-1cf7-45b2-9622-89c10dbf1eb2"
      },
      "source": [
        "<a href=\"https://colab.research.google.com/github/project-ida/test/blob/main/2024-12-11-test.ipynb\" target=\"_parent\"><img src=\"https://colab.research.google.com/assets/colab-badge.svg\" alt=\"Open In Colab\"/></a>"
      ]
    },
    {
      "cell_type": "markdown",
      "id": "a0c58e6c-2dcf-4992-8d16-db9ec301f4b4",
      "metadata": {
        "id": "a0c58e6c-2dcf-4992-8d16-db9ec301f4b4"
      },
      "source": [
        "## Test notebook"
      ]
    },
    {
      "cell_type": "code",
      "execution_count": null,
      "id": "9b2ae39f-1975-4c39-afb9-53b12f6e2088",
      "metadata": {
        "colab": {
          "base_uri": "https://localhost:8080/"
        },
        "id": "9b2ae39f-1975-4c39-afb9-53b12f6e2088",
        "outputId": "2513119a-5986-44f1-d894-11ce8f04cec6"
      },
      "outputs": [
        {
          "name": "stdout",
          "output_type": "stream",
          "text": [
            "hello world\n"
          ]
        }
      ],
      "source": [
        "print(\"hello world\")"
      ]
    },
    {
      "cell_type": "code",
      "execution_count": null,
      "id": "0ZtqJvrQ2N53",
      "metadata": {
        "id": "0ZtqJvrQ2N53"
      },
      "outputs": [],
      "source": []
    }
  ],
  "metadata": {
    "colab": {
      "provenance": []
    },
    "kernelspec": {
      "display_name": "Python 3 (ipykernel)",
      "language": "python",
      "name": "python3"
    },
    "language_info": {
      "codemirror_mode": {
        "name": "ipython",
        "version": 3
      },
      "file_extension": ".py",
      "mimetype": "text/x-python",
      "name": "python",
      "nbconvert_exporter": "python",
      "pygments_lexer": "ipython3",
      "version": "3.11.4"
    }
  },
  "nbformat": 4,
  "nbformat_minor": 5
}